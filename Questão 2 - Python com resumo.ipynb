{
  "nbformat": 4,
  "nbformat_minor": 0,
  "metadata": {
    "colab": {
      "provenance": []
    },
    "kernelspec": {
      "name": "python3",
      "display_name": "Python 3"
    },
    "language_info": {
      "name": "python"
    }
  },
  "cells": [
    {
      "cell_type": "code",
      "execution_count": 2,
      "metadata": {
        "colab": {
          "base_uri": "https://localhost:8080/"
        },
        "id": "QMnU7F2Io5ql",
        "outputId": "294b5cb4-4d8c-4634-86bd-ece109971203"
      },
      "outputs": [
        {
          "output_type": "stream",
          "name": "stdout",
          "text": [
            "Resumo das diferenças por coluna:\n",
            "Validacao_CODE_GENDER: 434459\n",
            "Validacao_FLAG_OWN_CAR: 0\n",
            "Validacao_FLAG_OWN_REALTY: 0\n",
            "Validacao_CNT_CHILDREN: 0\n",
            "Validacao_AMT_INCOME_TOTAL: 434459\n",
            "Validacao_NAME_INCOME_TYPE: 0\n",
            "Validacao_NAME_EDUCATION_TYPE: 0\n",
            "Validacao_NAME_FAMILY_STATUS: 0\n",
            "Validacao_NAME_HOUSING_TYPE: 0\n",
            "Validacao_DAYS_BIRTH: 434459\n",
            "Validacao_DAYS_EMPLOYED: 0\n",
            "Validacao_FLAG_MOBIL: 0\n",
            "Validacao_FLAG_WORK_PHONE: 0\n",
            "Validacao_FLAG_PHONE: 0\n",
            "Validacao_FLAG_EMAIL: 0\n",
            "Validacao_OCCUPATION_TYPE: 0\n",
            "Validacao_CNT_FAM_MEMBERS: 0\n",
            "Linhas apenas em local_df: 4051\n",
            "Linhas apenas em gcp_df: 0\n",
            "Relatório de diferenças gerado: diferencas_local_vs_gcp.csv\n",
            "Linhas faltantes entre as bases gerado: linhas_faltantes_local_ou_gcp.csv\n"
          ]
        }
      ],
      "source": [
        "import pandas as pd\n",
        "\n",
        "def gerar_relatorio_diferenca(local_path, gcp_path, output_path, output_missing_path):\n",
        "    # Carregar os dados das bases CSV\n",
        "    local_df = pd.read_csv(local_path, sep=\";\")\n",
        "    gcp_df = pd.read_csv(gcp_path)\n",
        "\n",
        "    # Remover duplicatas em ambas as bases com base no ID\n",
        "    local_df = local_df.drop_duplicates(subset='ID')\n",
        "    gcp_df = gcp_df.drop_duplicates(subset='ID')\n",
        "\n",
        "    # Realizar a junção completa (FULL OUTER JOIN) com indicador de origem das linhas\n",
        "    merged_df = pd.merge(local_df, gcp_df, on='ID', how='outer', suffixes=('_local', '_gcp'), indicator=True)\n",
        "\n",
        "    # Trazer apenas as linhas que estão em uma tabela mas não na outra\n",
        "    missing_rows = merged_df[merged_df['_merge'] != 'both']\n",
        "\n",
        "    # Exportar essas linhas para um arquivo separado\n",
        "    missing_rows.to_csv(output_missing_path, index=False)\n",
        "\n",
        "    # Função para gerar validação para cada coluna\n",
        "    def validar_coluna(coluna_local, coluna_gcp):\n",
        "        if pd.isna(coluna_local) or pd.isna(coluna_gcp):\n",
        "            return 'valor nulo'\n",
        "        elif coluna_local != coluna_gcp:\n",
        "            return 'não ok'\n",
        "        else:\n",
        "            return 'ok'\n",
        "\n",
        "    # Criar colunas de validação para cada campo\n",
        "    merged_df['Validacao_CODE_GENDER'] = merged_df.apply(lambda row: validar_coluna(row['CODE_GENDER_local'], row['CODE_GENDER_gcp']), axis=1)\n",
        "    merged_df['Validacao_FLAG_OWN_CAR'] = merged_df.apply(lambda row: validar_coluna(row['FLAG_OWN_CAR_local'], row['FLAG_OWN_CAR_gcp']), axis=1)\n",
        "    merged_df['Validacao_FLAG_OWN_REALTY'] = merged_df.apply(lambda row: validar_coluna(row['FLAG_OWN_REALTY_local'], row['FLAG_OWN_REALTY_gcp']), axis=1)\n",
        "    merged_df['Validacao_CNT_CHILDREN'] = merged_df.apply(lambda row: validar_coluna(row['CNT_CHILDREN_local'], row['CNT_CHILDREN_gcp']), axis=1)\n",
        "    merged_df['Validacao_AMT_INCOME_TOTAL'] = merged_df.apply(lambda row: validar_coluna(row['AMT_INCOME_TOTAL_local'], row['AMT_INCOME_TOTAL_gcp']), axis=1)\n",
        "    merged_df['Validacao_NAME_INCOME_TYPE'] = merged_df.apply(lambda row: validar_coluna(row['NAME_INCOME_TYPE_local'], row['NAME_INCOME_TYPE_gcp']), axis=1)\n",
        "    merged_df['Validacao_NAME_EDUCATION_TYPE'] = merged_df.apply(lambda row: validar_coluna(row['NAME_EDUCATION_TYPE_local'], row['NAME_EDUCATION_TYPE_gcp']), axis=1)\n",
        "    merged_df['Validacao_NAME_FAMILY_STATUS'] = merged_df.apply(lambda row: validar_coluna(row['NAME_FAMILY_STATUS_local'], row['NAME_FAMILY_STATUS_gcp']), axis=1)\n",
        "    merged_df['Validacao_NAME_HOUSING_TYPE'] = merged_df.apply(lambda row: validar_coluna(row['NAME_HOUSING_TYPE_local'], row['NAME_HOUSING_TYPE_gcp']), axis=1)\n",
        "    merged_df['Validacao_DAYS_BIRTH'] = merged_df.apply(lambda row: validar_coluna(row['DAYS_BIRTH_local'], row['DAYS_BIRTH_gcp']), axis=1)\n",
        "    merged_df['Validacao_DAYS_EMPLOYED'] = merged_df.apply(lambda row: validar_coluna(row['DAYS_EMPLOYED_local'], row['DAYS_EMPLOYED_gcp']), axis=1)\n",
        "    merged_df['Validacao_FLAG_MOBIL'] = merged_df.apply(lambda row: validar_coluna(row['FLAG_MOBIL_local'], row['FLAG_MOBIL_gcp']), axis=1)\n",
        "    merged_df['Validacao_FLAG_WORK_PHONE'] = merged_df.apply(lambda row: validar_coluna(row['FLAG_WORK_PHONE_local'], row['FLAG_WORK_PHONE_gcp']), axis=1)\n",
        "    merged_df['Validacao_FLAG_PHONE'] = merged_df.apply(lambda row: validar_coluna(row['FLAG_PHONE_local'], row['FLAG_PHONE_gcp']), axis=1)\n",
        "    merged_df['Validacao_FLAG_EMAIL'] = merged_df.apply(lambda row: validar_coluna(row['FLAG_EMAIL_local'], row['FLAG_EMAIL_gcp']), axis=1)\n",
        "    merged_df['Validacao_OCCUPATION_TYPE'] = merged_df.apply(lambda row: validar_coluna(row['OCCUPATION_TYPE_local'], row['OCCUPATION_TYPE_gcp']), axis=1)\n",
        "    merged_df['Validacao_CNT_FAM_MEMBERS'] = merged_df.apply(lambda row: validar_coluna(row['CNT_FAM_MEMBERS_local'], row['CNT_FAM_MEMBERS_gcp']), axis=1)\n",
        "\n",
        "    # Criar resumo das diferenças por coluna\n",
        "    resumo_diferencas = {}\n",
        "    colunas_validacao = [col for col in merged_df.columns if col.startswith('Validacao_')]\n",
        "\n",
        "    for coluna in colunas_validacao:\n",
        "        resumo_diferencas[coluna] = (merged_df[coluna] == 'não ok').sum()\n",
        "\n",
        "    # Contar as linhas que estão em uma tabela mas não na outra\n",
        "    linhas_faltantes = merged_df['_merge'].value_counts().to_dict()\n",
        "    resumo_diferencas['Linhas apenas em local_df'] = linhas_faltantes.get('left_only', 0)\n",
        "    resumo_diferencas['Linhas apenas em gcp_df'] = linhas_faltantes.get('right_only', 0)\n",
        "\n",
        "    # Exportar as diferenças encontradas\n",
        "    merged_df.to_csv(output_path, index=False)\n",
        "\n",
        "    return resumo_diferencas\n",
        "\n",
        "# Uso da função\n",
        "local_path = 'application_record_local.csv'\n",
        "gcp_path = 'application_record_gcp.csv'\n",
        "output_path = 'diferencas_local_vs_gcp.csv'\n",
        "output_missing_path = 'linhas_faltantes_local_ou_gcp.csv'\n",
        "\n",
        "resumo_diferenca = gerar_relatorio_diferenca(local_path, gcp_path, output_path, output_missing_path)\n",
        "print(\"Resumo das diferenças por coluna:\")\n",
        "for coluna, total in resumo_diferenca.items():\n",
        "    print(f\"{coluna}: {total}\")\n",
        "\n",
        "print(f\"Relatório de diferenças gerado: {output_path}\")\n",
        "print(f\"Linhas faltantes entre as bases gerado: {output_missing_path}\")\n"
      ]
    }
  ]
}